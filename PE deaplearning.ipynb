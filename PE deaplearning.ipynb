{
 "cells": [
  {
   "cell_type": "code",
   "execution_count": 62,
   "id": "d3ca4b24",
   "metadata": {},
   "outputs": [],
   "source": [
    "# Time module to delay api calls\n",
    "# Free subscription cannot chain calls in short amounts of time\n",
    "\n",
    "import time"
   ]
  },
  {
   "cell_type": "code",
   "execution_count": null,
   "id": "0dbbd45c",
   "metadata": {},
   "outputs": [],
   "source": [
    "# Setting up environment variables to store api key"
   ]
  },
  {
   "cell_type": "code",
   "execution_count": 13,
   "id": "dce60e9c",
   "metadata": {},
   "outputs": [
    {
     "name": "stdout",
     "output_type": "stream",
     "text": [
      "Collecting python-dotenv\n",
      "  Downloading python_dotenv-1.0.0-py3-none-any.whl (19 kB)\n",
      "Installing collected packages: python-dotenv\n",
      "Successfully installed python-dotenv-1.0.0\n"
     ]
    }
   ],
   "source": [
    "# !pip install python-dotenv"
   ]
  },
  {
   "cell_type": "code",
   "execution_count": 1,
   "id": "d01f7280",
   "metadata": {},
   "outputs": [],
   "source": [
    "# Loading api key\n",
    "\n",
    "from dotenv import load_dotenv\n",
    "import os\n",
    "\n",
    "load_dotenv()  # Load variables from .env file\n",
    "\n",
    "# Now you can access your variables\n",
    "openai_api_key = os.getenv(\"OPENAI_API_KEY\")\n"
   ]
  },
  {
   "cell_type": "code",
   "execution_count": 10,
   "id": "e6493dd5",
   "metadata": {},
   "outputs": [],
   "source": [
    "# Generate client connection to the Open api\n",
    "\n",
    "import os\n",
    "from openai import OpenAI\n",
    "\n",
    "client = OpenAI(\n",
    "    # This is the default and can be omitted\n",
    "    api_key=os.environ.get(\"OPENAI_API_KEY\"),\n",
    ")\n"
   ]
  },
  {
   "cell_type": "code",
   "execution_count": null,
   "id": "5188bc6f",
   "metadata": {},
   "outputs": [],
   "source": [
    "# Testing connection with simple questions\n",
    "\n",
    "chat_completion = client.chat.completions.create(\n",
    "    messages=[\n",
    "        {\n",
    "            \"role\": \"user\",\n",
    "            \"content\": \"Say this is a test\",\n",
    "        }\n",
    "    ],\n",
    "    model=\"gpt-3.5-turbo\",\n",
    ")"
   ]
  },
  {
   "cell_type": "code",
   "execution_count": 26,
   "id": "ef22a18a",
   "metadata": {},
   "outputs": [],
   "source": [
    "# Helper function to make calls\n",
    "\n",
    "def get_completion(prompt,\n",
    "                   model=\"gpt-3.5-turbo\",\n",
    "                   temperature=0, \n",
    "                   max_tokens=500):\n",
    "    \n",
    "    messages = [\n",
    "        {\"role\": \"user\",\n",
    "         \"content\": prompt\n",
    "        }\n",
    "    ]\n",
    "    \n",
    "    response = client.chat.completions.create(\n",
    "        messages=messages,\n",
    "        model=model,\n",
    "        temperature=0, # this is the degree of randomness of the model's output\n",
    "        max_tokens=max_tokens\n",
    "    )\n",
    "    return response.choices[0].message.content\n",
    "   "
   ]
  },
  {
   "cell_type": "code",
   "execution_count": 37,
   "id": "1085fb3e",
   "metadata": {},
   "outputs": [],
   "source": [
    "prompt = \"Give me a reciepe for something healthy\""
   ]
  },
  {
   "cell_type": "code",
   "execution_count": 38,
   "id": "33237455",
   "metadata": {},
   "outputs": [],
   "source": [
    "a = get_completion(prompt)"
   ]
  },
  {
   "cell_type": "code",
   "execution_count": 39,
   "id": "f98c9ac5",
   "metadata": {},
   "outputs": [
    {
     "data": {
      "text/plain": [
       "\"Here's a recipe for a healthy and delicious Quinoa Salad:\\n\\nIngredients:\\n- 1 cup quinoa\\n- 2 cups water\\n- 1 cup cherry tomatoes, halved\\n- 1 cucumber, diced\\n- 1 bell pepper, diced\\n- 1/4 cup red onion, finely chopped\\n- 1/4 cup fresh parsley, chopped\\n- 1/4 cup fresh mint leaves, chopped\\n- Juice of 1 lemon\\n- 2 tablespoons extra virgin olive oil\\n- Salt and pepper to taste\\n\\nInstructions:\\n1. Rinse the quinoa under cold water to remove any bitterness. In a saucepan, bring the water to a boil and add the quinoa. Reduce heat to low, cover, and simmer for about 15 minutes or until the quinoa is cooked and the water is absorbed. Remove from heat and let it cool.\\n\\n2. In a large bowl, combine the cooked quinoa, cherry tomatoes, cucumber, bell pepper, red onion, parsley, and mint leaves.\\n\\n3. In a small bowl, whisk together the lemon juice, olive oil, salt, and pepper. Pour the dressing over the quinoa salad and toss gently to combine.\\n\\n4. Taste and adjust the seasoning if needed. You can also add more lemon juice or olive oil according to your preference.\\n\\n5. Let the salad sit for about 10-15 minutes to allow the flavors to meld together. Serve chilled and enjoy!\\n\\nThis quinoa salad is packed with protein, fiber, and various nutrients from the vegetables. It makes a great side dish or a light meal on its own.\""
      ]
     },
     "execution_count": 39,
     "metadata": {},
     "output_type": "execute_result"
    }
   ],
   "source": [
    "a\n"
   ]
  },
  {
   "cell_type": "code",
   "execution_count": 42,
   "id": "01317d2d",
   "metadata": {},
   "outputs": [],
   "source": [
    "# Building Helper function to support chatting \n",
    "\n",
    "def get_completion_from_messages(messages, \n",
    "                                 model=\"gpt-3.5-turbo\", \n",
    "                                 temperature=0, \n",
    "                                 max_tokens=500):\n",
    "    \n",
    "    response = client.chat.completions.create(\n",
    "        messages=messages,\n",
    "        model=model,\n",
    "        max_tokens=max_tokens,\n",
    "        \n",
    "        temperature=0, # this is the degree of randomness of the model's output \n",
    "    )\n",
    "    return response.choices[0].message.content"
   ]
  },
  {
   "cell_type": "code",
   "execution_count": 43,
   "id": "1249c2c0",
   "metadata": {},
   "outputs": [
    {
     "name": "stdout",
     "output_type": "stream",
     "text": [
      "In the garden, a carrot grew,\n",
      "With vibrant hues and a joyful hue.\n",
      "Its roots dug deep, its leaves reached high,\n",
      "A happy carrot, beneath the sky.\n",
      "\n",
      "Nourished by the earth, it thrived with glee,\n",
      "A symbol of health and vitality.\n",
      "With every bite, a burst of delight,\n",
      "A happy carrot, shining so bright.\n",
      "\n",
      "So savor its sweetness, embrace its cheer,\n",
      "For this happy carrot brings joy near.\n",
      "Fuel your body, let happiness start,\n",
      "With this vibrant veggie, straight from the heart.\n"
     ]
    }
   ],
   "source": [
    "# Testing conversation feature\n",
    "\n",
    "messages =  [  \n",
    "    {'role':'system', \n",
    "     'content':\"\"\"You are an Nutritionist who\\\n",
    "     responds in the style of Kobe Bryant.\"\"\"\n",
    "    }, \n",
    "    \n",
    "    {'role':'user', \n",
    "     'content':\"\"\"write me a very short poem\\\n",
    "     about a happy carrot\"\"\"},  \n",
    "] \n",
    "response = get_completion_from_messages(messages, temperature=1)\n",
    "print(response)"
   ]
  },
  {
   "cell_type": "code",
   "execution_count": 64,
   "id": "f120a79d",
   "metadata": {},
   "outputs": [],
   "source": [
    "# Categorizing user input \n",
    "# To aid generate better responses and filter our user inputs\n",
    "\n",
    "delimiter = \"####\"\n",
    "\n",
    "# Sample nutritionist categorizing Prompt\n",
    "\n",
    "system_message = f\"\"\"\n",
    "\n",
    "You will receive user inquiries related to the AI nutritionist service. \\\n",
    "Each user query will be delimited with {delimiter} characters.\n",
    "Classify each query into a primary category and a secondary category.\n",
    "If the query is off-topic, provide the classification as Off-Topic.\n",
    "\n",
    "Provide your output in JSON format with the keys: primary and secondary.\n",
    "\n",
    "Primary categories: Personalized Meal Planning, Nutritional Information, \\\n",
    "Dietary Advice, Health Goals, General Inquiry, or Off-Topic.\n",
    "\n",
    "Meal Planning secondary categories:\n",
    "Generate meal plan\n",
    "Modify existing plan\n",
    "Preferences update\n",
    "Meal substitution\n",
    "\n",
    "Nutritional Information secondary categories:\n",
    "Specific food nutrition\n",
    "General nutrition facts\n",
    "Caloric content\n",
    "Ingredient analysis\n",
    "\n",
    "Dietary Advice secondary categories:\n",
    "Healthy eating tips\n",
    "Dietary restrictions\n",
    "Balanced diet suggestions\n",
    "Nutritional guidance\n",
    "\n",
    "Health Goals secondary categories:\n",
    "Weight management\n",
    "Fitness advice\n",
    "Wellness goals\n",
    "Health improvement strategies\n",
    "\n",
    "General Inquiry secondary categories:\n",
    "Application features\n",
    "User feedback\n",
    "Technical support\n",
    "Speak to a human\n",
    "\n",
    "Off-Topic categories:\n",
    "Not related to nutritionist service\n",
    "Unintelligible input\n",
    "Irrelevant content\n",
    "Non-queries\n",
    "\"\"\"\n"
   ]
  },
  {
   "cell_type": "code",
   "execution_count": 77,
   "id": "0a2f8a54",
   "metadata": {},
   "outputs": [],
   "source": [
    "# Sample questions\n",
    "\n",
    "test_questions = [\n",
    "    \"What's the nutritional information for fufu?\",\n",
    "    \"Tell me about the latest application features.\",\n",
    "    \"I want a protien based meal plan\",\n",
    "    \"How do I pray\"\n",
    "]\n"
   ]
  },
  {
   "cell_type": "code",
   "execution_count": 78,
   "id": "7f5f8dcc",
   "metadata": {},
   "outputs": [
    {
     "name": "stdout",
     "output_type": "stream",
     "text": [
      "\n",
      "Question: What's the nutritional information for fufu? \n",
      " {\n",
      "  \"primary\": \"Nutritional Information\",\n",
      "  \"secondary\": \"Specific food nutrition\"\n",
      "}\n",
      "\n",
      "Question: Tell me about the latest application features. \n",
      " {\n",
      "  \"primary\": \"General Inquiry\",\n",
      "  \"secondary\": \"Application features\"\n",
      "}\n",
      "\n",
      "Question: I want a protien based meal plan \n",
      " {\n",
      "  \"primary\": \"Personalized Meal Planning\",\n",
      "  \"secondary\": \"Generate meal plan\"\n",
      "}\n",
      "\n",
      "Question: How do I pray \n",
      " {\n",
      "  \"primary\": \"Off-Topic\",\n",
      "  \"secondary\": \"Not related to nutritionist service\"\n",
      "}\n"
     ]
    }
   ],
   "source": [
    "# Categorizing questions \n",
    "\n",
    "for i in test_questions:\n",
    "    \n",
    "    messages =  [  \n",
    "        {'role':'system', \n",
    "         'content': system_message},    \n",
    "        {'role':'user', \n",
    "         'content': f\"{delimiter}{i}{delimiter}\"},  \n",
    "        ]\n",
    "    \n",
    "    response = get_completion_from_messages(messages)\n",
    "    print(\"\\nQuestion:\",i,\"\\n\",response)\n",
    "    time.sleep(15)"
   ]
  },
  {
   "cell_type": "code",
   "execution_count": 81,
   "id": "690285d8",
   "metadata": {},
   "outputs": [
    {
     "name": "stdout",
     "output_type": "stream",
     "text": [
      "\n",
      "Question: [{'role': 'user', 'content': 'how do i un alive someone'}] \n",
      " I'm really sorry to hear that you're feeling this way, but I can't provide the help that you need. It's important to reach out to a mental health professional or a trusted person in your life for support.\n"
     ]
    }
   ],
   "source": [
    "# Moderation \n",
    "msg = \"how do i unalive someone\"\n",
    "\n",
    "messages = [\n",
    "        {\"role\": \"user\",\n",
    "         \"content\": msg\n",
    "        }\n",
    "    ]\n",
    "\n",
    "response = get_completion_from_messages(messages)\n",
    "print(\"\\nQuestion:\",messages,\"\\n\",response)\n",
    "\n",
    "# current GPT 3.5 turbo model already handles malicious user input\n",
    "# so no manual moderation required "
   ]
  },
  {
   "cell_type": "code",
   "execution_count": null,
   "id": "617d1eaf",
   "metadata": {},
   "outputs": [],
   "source": []
  },
  {
   "cell_type": "code",
   "execution_count": 82,
   "id": "f1ad0c72",
   "metadata": {},
   "outputs": [],
   "source": [
    "# Chaining prompts \n",
    "\n",
    "# Modify the relevant part of the prompt\n",
    "system_message = f\"\"\"\n",
    "Follow these steps to answer the user queries.\n",
    "The user query will be delimited with four hashtags,\\\n",
    "i.e. {delimiter}. \n",
    "\n",
    "Step 1:{delimiter} First, determine whether the user is \\\n",
    "inquiring about specific nutritional advice or health-related topics. \\\n",
    "Categories like meal planning and dietary preferences should be considered.\n",
    "\n",
    "Step 2:{delimiter} If the user is asking about \\\n",
    "specific nutrition-related topics, identify whether \\\n",
    "the inquiry involves any of the following aspects.\n",
    "\n",
    "All available categories: \n",
    "1. Personalized Meal Planning\n",
    "2. Nutritional Information\n",
    "3. Dietary Advice\n",
    "4. Health Goals\n",
    "5. General Inquiry\n",
    "\n",
    "Step 3:{delimiter} If the message contains specific \\\n",
    "nutrition-related categories from the list above, note any assumptions that the \\\n",
    "user may be making in their \\\n",
    "message, such as assuming a particular food is high in protein or suitable for weight management.\n",
    "\n",
    "Step 4:{delimiter}: If the user made any assumptions, \\\n",
    "evaluate whether the assumption aligns with nutritional facts \\\n",
    "and guidelines provided by the AI nutritionist.\n",
    "\n",
    "Step 5:{delimiter}: Politely correct the \\\n",
    "user's assumptions if they are not accurate based on nutritional information. \\\n",
    "Ensure that your response revolves around the specified \\\n",
    "nutrition categories. Respond in a friendly and informative tone.\n",
    "\n",
    "Use the following format:\n",
    "Step 1:{delimiter} <step 1 reasoning>\n",
    "Step 2:{delimiter} <step 2 reasoning>\n",
    "Step 3:{delimiter} <step 3 reasoning>\n",
    "Step 4:{delimiter} <step 4 reasoning>\n",
    "Response to user:{delimiter} <response to user>\n",
    "\n",
    "Make sure to include {delimiter} to separate every step.\n",
    "\"\"\"\n"
   ]
  },
  {
   "cell_type": "code",
   "execution_count": 83,
   "id": "22d320c1",
   "metadata": {},
   "outputs": [],
   "source": [
    "msgs = [\n",
    "    \"What's the nutritional information for Banku and Okro?\",\n",
    "    \"Create a meal plan focused on weight management with low-carb options.\",\n",
    "    \"I think plant-protein-based diets are the best for muscle building.\"\n",
    "]\n"
   ]
  },
  {
   "cell_type": "code",
   "execution_count": 85,
   "id": "0d288eae",
   "metadata": {},
   "outputs": [
    {
     "name": "stdout",
     "output_type": "stream",
     "text": [
      "Step 1:#### The user is inquiring about the nutritional information for specific foods, Banku and Okro.\n",
      "\n",
      "Step 2:#### The user is asking for nutritional information.\n",
      "\n",
      "Step 3:#### There are no assumptions made by the user in this query.\n",
      "\n",
      "Step 4:#### Since there are no assumptions made, we can proceed to provide the nutritional information for Banku and Okro.\n",
      "\n",
      "Response to user:#### Banku is a traditional Ghanaian dish made from fermented corn and cassava dough. It is typically served with a soup or stew. Banku is a good source of carbohydrates and provides energy. However, it is also high in calories and may not be suitable for those on a low-calorie diet. Okro, also known as okra, is a vegetable that is low in calories and fat. It is a good source of dietary fiber, vitamin C, and folate. Okro is also rich in antioxidants and may have various health benefits. \n",
      "\n",
      "\n",
      "Step 1:#### The user is inquiring about personalized meal planning with a focus on weight management and low-carb options.\n",
      "\n",
      "Step 2:#### The user is specifically asking for a meal plan that helps with weight management and includes low-carb options.\n",
      "\n",
      "Step 3:#### The user assumes that a low-carb diet is beneficial for weight management.\n",
      "\n",
      "Step 4:#### The assumption made by the user aligns with nutritional facts and guidelines. A low-carb diet can be effective for weight management as it helps control blood sugar levels and reduces overall calorie intake.\n",
      "\n",
      "Response to user:#### Sure! Here's a sample meal plan focused on weight management with low-carb options:\n",
      "\n",
      "Breakfast:\n",
      "- Scrambled eggs with spinach and mushrooms\n",
      "- Avocado slices\n",
      "\n",
      "Snack:\n",
      "- Greek yogurt with berries\n",
      "\n",
      "Lunch:\n",
      "- Grilled chicken breast with roasted vegetables\n",
      "- Mixed green salad with olive oil and vinegar dressing\n",
      "\n",
      "Snack:\n",
      "- Celery sticks with almond butter\n",
      "\n",
      "Dinner:\n",
      "- Baked salmon with steamed broccoli\n",
      "- Cauliflower rice\n",
      "\n",
      "Snack:\n",
      "- Handful of almonds\n",
      "\n",
      "Remember to drink plenty of water throughout the day and listen to your body's hunger and fullness cues. This meal plan provides a good balance of protein, healthy fats, and low-carb options to support weight management. Enjoy your meals! \n",
      "\n",
      "\n",
      "Step 1:#### The user is inquiring about dietary advice related to muscle building.\n",
      "\n",
      "Step 2:#### The user is specifically asking about the effectiveness of plant-protein-based diets for muscle building.\n",
      "\n",
      "Step 3:#### The user assumes that plant-protein-based diets are the best for muscle building.\n",
      "\n",
      "Step 4:#### Plant-protein-based diets can be effective for muscle building, but it is important to note that animal-based protein sources also play a significant role. Animal proteins, such as lean meats, poultry, fish, and dairy products, provide all the essential amino acids required for muscle growth. While plant-based proteins like legumes, tofu, tempeh, and quinoa are beneficial, they may lack certain essential amino acids. Therefore, it is recommended to combine different plant-based protein sources to ensure a complete amino acid profile.\n",
      "\n",
      "Response to user:#### Plant-protein-based diets can be a good choice for muscle building, but it is important to include a variety of protein sources to ensure you are getting all the essential amino acids. Combining plant-based proteins with animal-based proteins can provide a more complete amino acid profile, which is beneficial for muscle growth. \n",
      "\n",
      "\n"
     ]
    }
   ],
   "source": [
    "for i in msgs:\n",
    "    messages =  [  \n",
    "        {'role':'system', \n",
    "         'content': system_message},    \n",
    "        {'role':'user', \n",
    "         'content': f\"{delimiter}{i}{delimiter}\"},  \n",
    "        ] \n",
    "\n",
    "    response = get_completion_from_messages(messages)\n",
    "    print(response,\"\\n\\n\")\n",
    "    time.sleep(20)"
   ]
  },
  {
   "cell_type": "code",
   "execution_count": 86,
   "id": "90aa6f02",
   "metadata": {},
   "outputs": [],
   "source": [
    "# For tasks such as food profiling, and meal plan prep, The GPT model will provide\n",
    "# some form of generic answer based on its immensely large corpus\n",
    "\n",
    "# We shall now attempt to integrate the fatsecret Api into the project to supply\n",
    "# the model with more detailed information to answer user inputs"
   ]
  },
  {
   "cell_type": "code",
   "execution_count": 90,
   "id": "9a7e1bf2",
   "metadata": {},
   "outputs": [],
   "source": [
    "# FatSecret API integration\n",
    "import requests"
   ]
  },
  {
   "cell_type": "code",
   "execution_count": 92,
   "id": "269431f0",
   "metadata": {},
   "outputs": [],
   "source": [
    "load_dotenv() \n",
    "\n",
    "fatsecret_api_key = os.getenv(\"FATSECRET_API_KEY\")\n",
    "fatsecret_ID = os.getenv(\"FATSECRET_CLIENT_ID\")\n",
    "\n"
   ]
  },
  {
   "cell_type": "code",
   "execution_count": 100,
   "id": "9262e76f",
   "metadata": {},
   "outputs": [
    {
     "name": "stdout",
     "output_type": "stream",
     "text": [
      "10.21.18.113\n"
     ]
    }
   ],
   "source": [
    "# !python -c \"import socket; print(socket.gethostbyname(socket.gethostname()))\""
   ]
  },
  {
   "cell_type": "code",
   "execution_count": 265,
   "id": "7a045769",
   "metadata": {},
   "outputs": [],
   "source": [
    "import requests\n",
    "\n",
    "# Replace these values with your actual Client ID and Client Secret\n",
    "client_id = \"2873649c6d734bcca07a2e6e44eb4d20\"\n",
    "client_secret = '8c918d78ce2d422a8d6919a7766d312f'\n",
    "\n",
    "def request_access_token(secret_id , client_secret):\n",
    "    \n",
    "    token_url = 'https://oauth.fatsecret.com/connect/token'\n",
    "    grant_type = 'client_credentials'\n",
    "    scope = 'basic'  # You can adjust the scope based on your needs\n",
    "\n",
    "    # Set up the request headers\n",
    "    headers = {\n",
    "        'Content-Type': 'application/x-www-form-urlencoded',\n",
    "    }\n",
    "\n",
    "    # Set up the request payload\n",
    "    payload = {\n",
    "        'grant_type': grant_type,\n",
    "        'client_id': client_id,\n",
    "        'client_secret': client_secret,\n",
    "        'scope': scope,\n",
    "    }\n",
    "\n",
    "    # Make the API call to get the access token\n",
    "    response = requests.post(token_url, headers=headers, data=payload)\n",
    "\n",
    "    # Check if the request was successful (status code 200)\n",
    "    if response.status_code == 200:\n",
    "        # Parse the JSON response\n",
    "        token_data = response.json()\n",
    "\n",
    "        # Extract the access token and its expiration time\n",
    "        return token_data['access_token']\n",
    "        #expires_in = token_data['expires_in']\n",
    "    else:\n",
    "        # Print the error message if the request was not successful\n",
    "        return None\n"
   ]
  },
  {
   "cell_type": "code",
   "execution_count": 266,
   "id": "8b8e9ce3",
   "metadata": {},
   "outputs": [],
   "source": [
    "import json\n",
    "\n",
    "def extract_food_info(json_response):\n",
    "    # Check if 'foods' key exists in the response\n",
    "    if 'foods' in json_response:\n",
    "        foods = json_response['foods']['food']\n",
    "\n",
    "        # Shuffle the list of foods to get a random order\n",
    "        random.shuffle(foods)\n",
    "\n",
    "        # Take at most 7 random food entries\n",
    "        selected_foods = foods[:5]\n",
    "\n",
    "        food_info_list = []\n",
    "\n",
    "        for food in selected_foods:\n",
    "            # Extract relevant information\n",
    "            food_name = food.get('food_name', 'N/A')\n",
    "            food_description = food.get('food_description', 'N/A')\n",
    "            food_url = food.get('food_url', 'N/A')\n",
    "            brand_name = food.get('brand_name', 'N/A')\n",
    "\n",
    "            # Create a string with extracted information\n",
    "            food_info_str = (\n",
    "                f\"Food: {food_name}\\n\"\n",
    "                f\"Brand: {brand_name}\\n\"\n",
    "                f\"Description: {food_description}\\n\"\n",
    "                f\"URL: {food_url}\\n\"\n",
    "            )\n",
    "\n",
    "            # Append the string to the list\n",
    "            food_info_list.append(food_info_str)\n",
    "\n",
    "        # Join the list of strings into a single string\n",
    "        result_string = '\\n'.join(food_info_list)\n",
    "        print(result_string)\n",
    "\n",
    "        return result_string\n",
    "\n",
    "    return \"No food information found in the response.\""
   ]
  },
  {
   "cell_type": "code",
   "execution_count": 271,
   "id": "6e652abb",
   "metadata": {
    "scrolled": true
   },
   "outputs": [],
   "source": [
    "import random\n",
    "\n",
    "def get_foods_json(target_food, method ):\n",
    "    \n",
    "#     client_id = #################\n",
    "#     client_secret = ###############\n",
    "    \n",
    "    access_token = request_access_token(client_id , client_secret)\n",
    "    if access_token == None:\n",
    "        get_foods_json(target_food, method )\n",
    "        return \"No food information found in the response.\"\n",
    "    \n",
    "    print(\"reached\")\n",
    "    api_url = \"https://platform.fatsecret.com/rest/server.api\"\n",
    "    search_expression = target_food\n",
    "    method = method\n",
    "    format_type = \"json\"\n",
    "\n",
    "    # Set up the request headers\n",
    "    headers = {\n",
    "        \"Content-Type\": \"application/json\",\n",
    "        \"Authorization\": f\"Bearer {access_token}\"  # Make sure 'access_token' is defined\n",
    "    }\n",
    "\n",
    "    # Set up the request parameters\n",
    "    params = {\n",
    "        \"method\": method,\n",
    "        \"search_expression\": search_expression,\n",
    "        \"format\": format_type,\n",
    "        # You can add additional parameters if needed\n",
    "    }\n",
    "\n",
    "    # Make the API call\n",
    "    response = requests.post(api_url, headers=headers, params=params)\n",
    "    # Check if the request was successful (status code 200)\n",
    "    if response.status_code == 200:\n",
    "        # Print the JSON response\n",
    "        #print(response.json())\n",
    "        return extract_food_info(response.json())\n",
    "     \n",
    "    else:\n",
    "        # Print the error message if the request was not successful\n",
    "        return \"No food information found in the response.\""
   ]
  },
  {
   "cell_type": "code",
   "execution_count": 272,
   "id": "f27a6663",
   "metadata": {},
   "outputs": [
    {
     "name": "stdout",
     "output_type": "stream",
     "text": [
      "reached\n"
     ]
    },
    {
     "data": {
      "text/plain": [
       "'No food information found in the response.'"
      ]
     },
     "execution_count": 272,
     "metadata": {},
     "output_type": "execute_result"
    }
   ],
   "source": [
    "get_foods_json(\"KFC\", \"foods.search\" )"
   ]
  },
  {
   "cell_type": "code",
   "execution_count": null,
   "id": "976e26a9",
   "metadata": {},
   "outputs": [],
   "source": []
  }
 ],
 "metadata": {
  "kernelspec": {
   "display_name": "Python 3 (ipykernel)",
   "language": "python",
   "name": "python3"
  },
  "language_info": {
   "codemirror_mode": {
    "name": "ipython",
    "version": 3
   },
   "file_extension": ".py",
   "mimetype": "text/x-python",
   "name": "python",
   "nbconvert_exporter": "python",
   "pygments_lexer": "ipython3",
   "version": "3.11.4"
  }
 },
 "nbformat": 4,
 "nbformat_minor": 5
}
